{
 "cells": [
  {
   "cell_type": "markdown",
   "metadata": {},
   "source": [
    "# Project 4: Recreating the Hubble Ultra Deep Field \n",
    "The Hubble Deep Field (HUDF) is a world renowed image taken in 1995 by the Hubble Space Telescope. The image has inspired a generation of astronomers and opened the door to exploring high redshift galaxis and the origins of the early universe. In this project I am to recreate the famaous image by downloading HST data and piecing together an RBG image displaying the results of the 2004 observation. In addition, emerging research into the expansion of the universe and spectroscopic research into the galaxies featured in the image show that these galaxies are moving and have corresponding doppler shifts. In this project I want to overlay the doppler shift data onto the HUDF to visualize the behavior of these galaxies for future scientific endevors. \n",
    "\n",
    "\n",
    "\n"
   ]
  },
  {
   "cell_type": "markdown",
   "metadata": {},
   "source": [
    "# Important packages \n",
    "Outside of the standard python packages necessary for a project like this I also included a variety of astropy packages necessary for preserving coordinates, units, and the ability to overlay Red Green and Blue image data into one mosaic. \n"
   ]
  },
  {
   "cell_type": "code",
   "execution_count": null,
   "metadata": {},
   "outputs": [],
   "source": [
    "\n",
    "\n",
    "from astropy.io import fits \n",
    "from astropy.wcs import WCS \n",
    "import numpy as np \n",
    "import matplotlib.pyplot as plt\n",
    "from astropy.visualization import make_lupton_rgb\n",
    "from matplotlib.colors import LogNorm \n",
    "from astroquery.vizier import Vizier\n",
    "import astropy.units as u\n",
    "from astropy.coordinates import SkyCoord\n"
   ]
  },
  {
   "cell_type": "code",
   "execution_count": null,
   "metadata": {},
   "outputs": [],
   "source": []
  }
 ],
 "metadata": {
  "language_info": {
   "name": "python"
  }
 },
 "nbformat": 4,
 "nbformat_minor": 2
}
